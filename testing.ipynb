{
 "cells": [
  {
   "cell_type": "code",
   "execution_count": 1,
   "metadata": {},
   "outputs": [],
   "source": [
    "import cv2\n",
    "from processing import *\n",
    "from dt_apriltags import Detector\n",
    "from pid import PID\n",
    "import matplotlib.pyplot as plt"
   ]
  },
  {
   "cell_type": "code",
   "execution_count": 2,
   "metadata": {},
   "outputs": [],
   "source": [
    "pid_x = PID(10, 0, 0, 100)\n",
    "pid_y = PID(10, 0, 0, 100)"
   ]
  },
  {
   "cell_type": "code",
   "execution_count": 3,
   "metadata": {},
   "outputs": [
    {
     "name": "stdout",
     "output_type": "stream",
     "text": [
      "2465.0\n",
      "16.666666666666668\n"
     ]
    }
   ],
   "source": [
    "video = cv2.VideoCapture('at_AUV_vid (online-video-cutter.com).mkv')"
   ]
  },
  {
   "cell_type": "code",
   "execution_count": 4,
   "metadata": {},
   "outputs": [
    {
     "name": "stdout",
     "output_type": "stream",
     "text": [
      "2465.0\n",
      "2000.0\n"
     ]
    }
   ],
   "source": [
    "#trims the video for testing purposes\n",
    "#video.set(cv2.CAP_PROP_POS_FRAMES, 2000)"
   ]
  },
  {
   "cell_type": "code",
   "execution_count": 5,
   "metadata": {},
   "outputs": [
    {
     "name": "stderr",
     "output_type": "stream",
     "text": [
      "Error, more than one new minimum found.\n",
      "Error, more than one new minimum found.\n",
      "Error, more than one new minimum found.\n",
      "Error, more than one new minimum found.\n",
      "Error, more than one new minimum found.\n",
      "Error, more than one new minimum found.\n",
      "Error, more than one new minimum found.\n",
      "Error, more than one new minimum found.\n",
      "Error, more than one new minimum found.\n",
      "Error, more than one new minimum found.\n",
      "Error, more than one new minimum found.\n",
      "Error, more than one new minimum found.\n",
      "Error, more than one new minimum found.\n",
      "Error, more than one new minimum found.\n"
     ]
    },
    {
     "ename": "error",
     "evalue": "OpenCV(4.8.0) /io/opencv/modules/imgproc/src/color.cpp:182: error: (-215:Assertion failed) !_src.empty() in function 'cvtColor'\n",
     "output_type": "error",
     "traceback": [
      "\u001b[0;31m---------------------------------------------------------------------------\u001b[0m",
      "\u001b[0;31merror\u001b[0m                                     Traceback (most recent call last)",
      "Cell \u001b[0;32mIn[5], line 21\u001b[0m\n\u001b[1;32m     12\u001b[0m ret, frame \u001b[39m=\u001b[39m video\u001b[39m.\u001b[39mread()\n\u001b[1;32m     13\u001b[0m at_detector \u001b[39m=\u001b[39m Detector(families\u001b[39m=\u001b[39m\u001b[39m'\u001b[39m\u001b[39mtag36h11\u001b[39m\u001b[39m'\u001b[39m,\n\u001b[1;32m     14\u001b[0m                    nthreads\u001b[39m=\u001b[39m\u001b[39m1\u001b[39m,\n\u001b[1;32m     15\u001b[0m                    quad_decimate\u001b[39m=\u001b[39m\u001b[39m1.0\u001b[39m,\n\u001b[0;32m   (...)\u001b[0m\n\u001b[1;32m     18\u001b[0m                    decode_sharpening\u001b[39m=\u001b[39m\u001b[39m0.25\u001b[39m,\n\u001b[1;32m     19\u001b[0m                    debug\u001b[39m=\u001b[39m\u001b[39m0\u001b[39m)\n\u001b[0;32m---> 21\u001b[0m gray \u001b[39m=\u001b[39m cv2\u001b[39m.\u001b[39;49mcvtColor(frame, cv2\u001b[39m.\u001b[39;49mCOLOR_BGR2GRAY)\n\u001b[1;32m     23\u001b[0m tags \u001b[39m=\u001b[39m at_detector\u001b[39m.\u001b[39mdetect(gray, estimate_tag_pose\u001b[39m=\u001b[39m\u001b[39mFalse\u001b[39;00m, camera_params\u001b[39m=\u001b[39m\u001b[39mNone\u001b[39;00m, tag_size\u001b[39m=\u001b[39m\u001b[39mNone\u001b[39;00m)\n\u001b[1;32m     25\u001b[0m color_img \u001b[39m=\u001b[39m cv2\u001b[39m.\u001b[39mcvtColor(gray, cv2\u001b[39m.\u001b[39mCOLOR_GRAY2RGB)\n",
      "\u001b[0;31merror\u001b[0m: OpenCV(4.8.0) /io/opencv/modules/imgproc/src/color.cpp:182: error: (-215:Assertion failed) !_src.empty() in function 'cvtColor'\n"
     ]
    }
   ],
   "source": [
    "\n",
    "fps = int(video.get(cv2.CAP_PROP_FPS))\n",
    "width = int(video.get(cv2.CAP_PROP_FRAME_WIDTH))\n",
    "height = int(video.get(cv2.CAP_PROP_FRAME_HEIGHT))\n",
    "\n",
    "output_file = 'april_tags.avi'\n",
    "fourcc = cv2.VideoWriter_fourcc(*'XVID')\n",
    "output_video = cv2.VideoWriter(output_file, fourcc, 30, (width, height))\n",
    "\n",
    "ret = True\n",
    "count = 0\n",
    "while ret:\n",
    "    ret, frame = video.read()\n",
    "    at_detector = Detector(families='tag36h11',\n",
    "                       nthreads=1,\n",
    "                       quad_decimate=1.0,\n",
    "                       quad_sigma=0.0,\n",
    "                       refine_edges=1,\n",
    "                       decode_sharpening=0.25,\n",
    "                       debug=0)\n",
    "\n",
    "    gray = cv2.cvtColor(frame, cv2.COLOR_BGR2GRAY)\n",
    "\n",
    "    tags = at_detector.detect(gray, estimate_tag_pose=False, camera_params=None, tag_size=None)\n",
    "\n",
    "    color_img = cv2.cvtColor(gray, cv2.COLOR_GRAY2RGB)\n",
    "\n",
    "    # plt.imshow(color_img)\n",
    "    # plt.show()\n",
    "\n",
    "\n",
    "    data = process(color_img, pid_x, pid_y, at_detector)\n",
    "\n",
    "\n",
    "    if data:\n",
    "        powers = data[0]\n",
    "        color_img = data[1]\n",
    "        copy_img = color_img.copy()\n",
    "\n",
    "        draw_center(copy_img)\n",
    "\n",
    "        output_video.write(copy_img)\n",
    "    else:\n",
    "        output_video.write(frame)\n",
    "    \n",
    "      \n",
    "video.release()\n",
    "output_video.release()"
   ]
  }
 ],
 "metadata": {
  "kernelspec": {
   "display_name": "bluecv",
   "language": "python",
   "name": "python3"
  },
  "language_info": {
   "codemirror_mode": {
    "name": "ipython",
    "version": 3
   },
   "file_extension": ".py",
   "mimetype": "text/x-python",
   "name": "python",
   "nbconvert_exporter": "python",
   "pygments_lexer": "ipython3",
   "version": "3.9.2"
  },
  "orig_nbformat": 4,
  "vscode": {
   "interpreter": {
    "hash": "04c0fcea70dda6048aeae827e76ba8fc20c8a61759a06da91d2e948a06278481"
   }
  }
 },
 "nbformat": 4,
 "nbformat_minor": 2
}
