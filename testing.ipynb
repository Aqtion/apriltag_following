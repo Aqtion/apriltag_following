{
 "cells": [
  {
   "cell_type": "code",
   "execution_count": 1,
   "metadata": {},
   "outputs": [],
   "source": [
    "import cv2\n",
    "from processing import *\n",
    "from dt_apriltags import Detector\n",
    "from pid import PID"
   ]
  },
  {
   "cell_type": "code",
   "execution_count": 2,
   "metadata": {},
   "outputs": [],
   "source": [
    "pid_x = PID(10, 0, 0)\n",
    "pid_y = PID(10, 0, 0)"
   ]
  },
  {
   "cell_type": "code",
   "execution_count": 3,
   "metadata": {},
   "outputs": [],
   "source": [
    "video = cv2.VideoCapture('/home/keshav/cv-intro/media/AprilTagTest1.mkv')\n",
    "\n",
    "fps = int(video.get(cv2.CAP_PROP_FPS))\n",
    "width = int(video.get(cv2.CAP_PROP_FRAME_WIDTH))\n",
    "height = int(video.get(cv2.CAP_PROP_FRAME_HEIGHT))\n",
    "\n",
    "output_file = 'april_tags.avi'\n",
    "fourcc = cv2.VideoWriter_fourcc(*'XVID')\n",
    "output_video = cv2.VideoWriter(output_file, fourcc, 30, (width, height))"
   ]
  },
  {
   "cell_type": "code",
   "execution_count": 4,
   "metadata": {},
   "outputs": [
    {
     "name": "stderr",
     "output_type": "stream",
     "text": [
      "Error, more than one new minimum found.\n",
      "Error, more than one new minimum found.\n",
      "Error, more than one new minimum found.\n"
     ]
    },
    {
     "ename": "KeyboardInterrupt",
     "evalue": "",
     "output_type": "error",
     "traceback": [
      "\u001b[0;31m---------------------------------------------------------------------------\u001b[0m",
      "\u001b[0;31mKeyboardInterrupt\u001b[0m                         Traceback (most recent call last)",
      "Cell \u001b[0;32mIn[4], line 15\u001b[0m\n\u001b[1;32m      5\u001b[0m at_detector \u001b[39m=\u001b[39m Detector(families\u001b[39m=\u001b[39m\u001b[39m'\u001b[39m\u001b[39mtag36h11\u001b[39m\u001b[39m'\u001b[39m,\n\u001b[1;32m      6\u001b[0m                    nthreads\u001b[39m=\u001b[39m\u001b[39m1\u001b[39m,\n\u001b[1;32m      7\u001b[0m                    quad_decimate\u001b[39m=\u001b[39m\u001b[39m1.0\u001b[39m,\n\u001b[0;32m   (...)\u001b[0m\n\u001b[1;32m     10\u001b[0m                    decode_sharpening\u001b[39m=\u001b[39m\u001b[39m0.25\u001b[39m,\n\u001b[1;32m     11\u001b[0m                    debug\u001b[39m=\u001b[39m\u001b[39m0\u001b[39m)\n\u001b[1;32m     13\u001b[0m gray \u001b[39m=\u001b[39m cv2\u001b[39m.\u001b[39mcvtColor(frame, cv2\u001b[39m.\u001b[39mCOLOR_BGR2GRAY)\n\u001b[0;32m---> 15\u001b[0m tags \u001b[39m=\u001b[39m at_detector\u001b[39m.\u001b[39;49mdetect(gray, estimate_tag_pose\u001b[39m=\u001b[39;49m\u001b[39mFalse\u001b[39;49;00m, camera_params\u001b[39m=\u001b[39;49m\u001b[39mNone\u001b[39;49;00m, tag_size\u001b[39m=\u001b[39;49m\u001b[39mNone\u001b[39;49;00m)\n\u001b[1;32m     17\u001b[0m color_img \u001b[39m=\u001b[39m cv2\u001b[39m.\u001b[39mcvtColor(gray, cv2\u001b[39m.\u001b[39mCOLOR_GRAY2RGB)\n\u001b[1;32m     19\u001b[0m data \u001b[39m=\u001b[39m process(color_img, pid_x, pid_y, at_detector)\n",
      "File \u001b[0;32m~/.virtualenvs/bluecv/lib/python3.9/site-packages/dt_apriltags/apriltags.py:364\u001b[0m, in \u001b[0;36mDetector.detect\u001b[0;34m(self, img, estimate_tag_pose, camera_params, tag_size)\u001b[0m\n\u001b[1;32m    362\u001b[0m \u001b[39m# detect apriltags in the image\u001b[39;00m\n\u001b[1;32m    363\u001b[0m \u001b[39mself\u001b[39m\u001b[39m.\u001b[39mlibc\u001b[39m.\u001b[39mapriltag_detector_detect\u001b[39m.\u001b[39mrestype \u001b[39m=\u001b[39m ctypes\u001b[39m.\u001b[39mPOINTER(_ZArray)\n\u001b[0;32m--> 364\u001b[0m detections \u001b[39m=\u001b[39m \u001b[39mself\u001b[39;49m\u001b[39m.\u001b[39;49mlibc\u001b[39m.\u001b[39;49mapriltag_detector_detect(\u001b[39mself\u001b[39;49m\u001b[39m.\u001b[39;49mtag_detector_ptr, c_img)\n\u001b[1;32m    366\u001b[0m apriltag \u001b[39m=\u001b[39m ctypes\u001b[39m.\u001b[39mPOINTER(_ApriltagDetection)()\n\u001b[1;32m    368\u001b[0m \u001b[39mfor\u001b[39;00m i \u001b[39min\u001b[39;00m \u001b[39mrange\u001b[39m(\u001b[39m0\u001b[39m, detections\u001b[39m.\u001b[39mcontents\u001b[39m.\u001b[39msize):\n\u001b[1;32m    369\u001b[0m \n\u001b[1;32m    370\u001b[0m     \u001b[39m# extract the data for each apriltag that was identified\u001b[39;00m\n",
      "\u001b[0;31mKeyboardInterrupt\u001b[0m: "
     ]
    }
   ],
   "source": [
    "ret = True\n",
    "count = 0\n",
    "while ret:\n",
    "    ret, frame = video.read()\n",
    "    at_detector = Detector(families='tag36h11',\n",
    "                       nthreads=1,\n",
    "                       quad_decimate=1.0,\n",
    "                       quad_sigma=0.0,\n",
    "                       refine_edges=1,\n",
    "                       decode_sharpening=0.25,\n",
    "                       debug=0)\n",
    "\n",
    "    gray = cv2.cvtColor(frame, cv2.COLOR_BGR2GRAY)\n",
    "\n",
    "    tags = at_detector.detect(gray, estimate_tag_pose=False, camera_params=None, tag_size=None)\n",
    "\n",
    "    color_img = cv2.cvtColor(gray, cv2.COLOR_GRAY2RGB)\n",
    "\n",
    "    data = process(color_img, pid_x, pid_y, at_detector)\n",
    "    \n",
    "    if data:\n",
    "        powers = data[0]\n",
    "        color_img = data[1]\n",
    "        copy_img = color_img.copy()\n",
    "        plt.imshow(copy_img)\n",
    "        plt.show()\n",
    "\n",
    "        output_video.write(copy_img)\n",
    "    \n",
    "      \n",
    "video.release()\n",
    "output_video.release()"
   ]
  }
 ],
 "metadata": {
  "kernelspec": {
   "display_name": "bluecv",
   "language": "python",
   "name": "python3"
  },
  "language_info": {
   "codemirror_mode": {
    "name": "ipython",
    "version": 3
   },
   "file_extension": ".py",
   "mimetype": "text/x-python",
   "name": "python",
   "nbconvert_exporter": "python",
   "pygments_lexer": "ipython3",
   "version": "3.9.2"
  },
  "orig_nbformat": 4,
  "vscode": {
   "interpreter": {
    "hash": "04c0fcea70dda6048aeae827e76ba8fc20c8a61759a06da91d2e948a06278481"
   }
  }
 },
 "nbformat": 4,
 "nbformat_minor": 2
}
