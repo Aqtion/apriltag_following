{
 "cells": [
  {
   "cell_type": "code",
   "execution_count": 1,
   "metadata": {},
   "outputs": [],
   "source": [
    "import cv2\n",
    "from processing import *\n",
    "from dt_apriltags import Detector\n",
    "from pid import PID\n",
    "import matplotlib.pyplot as plt"
   ]
  },
  {
   "cell_type": "code",
   "execution_count": 2,
   "metadata": {},
   "outputs": [],
   "source": [
    "pid_x = PID(10, 0, 0, 100)\n",
    "pid_y = PID(10, 0, 0, 100)"
   ]
  },
  {
   "cell_type": "code",
   "execution_count": 3,
   "metadata": {},
   "outputs": [
    {
     "ename": "KeyboardInterrupt",
     "evalue": "",
     "output_type": "error",
     "traceback": [
      "\u001b[0;31m---------------------------------------------------------------------------\u001b[0m",
      "\u001b[0;31mKeyboardInterrupt\u001b[0m                         Traceback (most recent call last)",
      "Cell \u001b[0;32mIn[3], line 45\u001b[0m\n\u001b[1;32m     43\u001b[0m         output_video\u001b[39m.\u001b[39mwrite(copy_img)\n\u001b[1;32m     44\u001b[0m     \u001b[39melse\u001b[39;00m:\n\u001b[0;32m---> 45\u001b[0m         output_video\u001b[39m.\u001b[39;49mwrite(frame)\n\u001b[1;32m     48\u001b[0m video\u001b[39m.\u001b[39mrelease()\n\u001b[1;32m     49\u001b[0m output_video\u001b[39m.\u001b[39mrelease()\n",
      "\u001b[0;31mKeyboardInterrupt\u001b[0m: "
     ]
    }
   ],
   "source": [
    "video = cv2.VideoCapture('at_AUV_vid (online-video-cutter.com).mkv')\n",
    "\n",
    "fps = int(video.get(cv2.CAP_PROP_FPS))\n",
    "width = int(video.get(cv2.CAP_PROP_FRAME_WIDTH))\n",
    "height = int(video.get(cv2.CAP_PROP_FRAME_HEIGHT))\n",
    "\n",
    "output_file = 'april_tags.avi'\n",
    "fourcc = cv2.VideoWriter_fourcc(*'XVID')\n",
    "output_video = cv2.VideoWriter(output_file, fourcc, 30, (width, height))\n",
    "\n",
    "ret = True\n",
    "count = 0\n",
    "while ret:\n",
    "    ret, frame = video.read()\n",
    "    at_detector = Detector(families='tag36h11',\n",
    "                       nthreads=1,\n",
    "                       quad_decimate=1.0,\n",
    "                       quad_sigma=0.0,\n",
    "                       refine_edges=1,\n",
    "                       decode_sharpening=0.25,\n",
    "                       debug=0)\n",
    "\n",
    "    gray = cv2.cvtColor(frame, cv2.COLOR_BGR2GRAY)\n",
    "\n",
    "    tags = at_detector.detect(gray, estimate_tag_pose=False, camera_params=None, tag_size=None)\n",
    "\n",
    "    color_img = cv2.cvtColor(gray, cv2.COLOR_GRAY2RGB)\n",
    "\n",
    "    # plt.imshow(color_img)\n",
    "    # plt.show()\n",
    "\n",
    "\n",
    "    data = process(color_img, pid_x, pid_y, at_detector)\n",
    "\n",
    "\n",
    "    if data:\n",
    "        powers = data[0]\n",
    "        color_img = data[1]\n",
    "        copy_img = color_img.copy()\n",
    "\n",
    "        draw_center(copy_img)\n",
    "\n",
    "        output_video.write(copy_img)\n",
    "    else:\n",
    "        output_video.write(frame)\n",
    "    \n",
    "      \n",
    "video.release()\n",
    "output_video.release()"
   ]
  }
 ],
 "metadata": {
  "kernelspec": {
   "display_name": "bluecv",
   "language": "python",
   "name": "python3"
  },
  "language_info": {
   "codemirror_mode": {
    "name": "ipython",
    "version": 3
   },
   "file_extension": ".py",
   "mimetype": "text/x-python",
   "name": "python",
   "nbconvert_exporter": "python",
   "pygments_lexer": "ipython3",
   "version": "3.9.2"
  },
  "orig_nbformat": 4,
  "vscode": {
   "interpreter": {
    "hash": "04c0fcea70dda6048aeae827e76ba8fc20c8a61759a06da91d2e948a06278481"
   }
  }
 },
 "nbformat": 4,
 "nbformat_minor": 2
}
