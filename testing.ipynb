{
 "cells": [
  {
   "cell_type": "code",
   "execution_count": 1,
   "metadata": {},
   "outputs": [],
   "source": [
    "import cv2\n",
    "from processing import *\n",
    "from lane_processing import *\n",
    "from dt_apriltags import Detector\n",
    "from pid import PID\n",
    "import matplotlib.pyplot as plt\n",
    "from video import *"
   ]
  },
  {
   "cell_type": "code",
   "execution_count": 2,
   "metadata": {},
   "outputs": [],
   "source": [
    "pid_x = PID(10, 0, 0, 100)\n",
    "pid_y = PID(10, 0, 0, 100)"
   ]
  },
  {
   "cell_type": "code",
   "execution_count": 3,
   "metadata": {},
   "outputs": [],
   "source": [
    "video = Video()\n",
    "\n",
    "# fps = int(video.get(cv2.CAP_PROP_FPS))\n",
    "# width = int(video.get(cv2.CAP_PROP_FRAME_WIDTH))\n",
    "# height = int(video.get(cv2.CAP_PROP_FRAME_HEIGHT))\n",
    "\n",
    "# output_file = 'april_tags.avi'\n",
    "# fourcc = cv2.VideoWriter_fourcc(*'XVID')\n",
    "# output_video = cv2.VideoWriter(output_file, fourcc, 30, (width, height))\n",
    "\n",
    "ret = True\n",
    "count = 0\n",
    "while ret:\n",
    "    try:\n",
    "        if video.frame_available():\n",
    "            frame = video.frame()\n",
    "            # msg = bluerov.recv_match(type=\"ATTITUDE\", blocking=True)\n",
    "            yaw = 0\n",
    "            yaw_rate = 0\n",
    "\n",
    "            powers = follow_lane(frame, [yaw, yaw_rate], 49, 50, 3, 500, 40)\n",
    "            if not powers:\n",
    "                powers = [0,0]\n",
    "            else:\n",
    "                heading_power, lane_lateral_power = powers\n",
    "                print(powers)\n",
    "                break\n",
    "                \n",
    "    except:\n",
    "        continue\n",
    "    # plt.imshow(color_img)\n",
    "    # plt.show()\n",
    "\n",
    "\n",
    "    # data = process(color_img, pid_x, pid_y, at_detector)\n",
    "\n",
    "\n",
    "    # if data:\n",
    "    #     powers = data[0]\n",
    "    #     color_img = data[1]\n",
    "    #     copy_img = color_img.copy()\n",
    "\n",
    "    #     draw_center(copy_img)\n",
    "\n",
    "        # output_video.write(copy_img)\n",
    "    \n",
    "      \n",
    "video.release()\n",
    "# output_video.release()"
   ]
  }
 ],
 "metadata": {
  "kernelspec": {
   "display_name": "bluecv",
   "language": "python",
   "name": "python3"
  },
  "language_info": {
   "codemirror_mode": {
    "name": "ipython",
    "version": 3
   },
   "file_extension": ".py",
   "mimetype": "text/x-python",
   "name": "python",
   "nbconvert_exporter": "python",
   "pygments_lexer": "ipython3",
   "version": "3.9.2"
  },
  "orig_nbformat": 4,
  "vscode": {
   "interpreter": {
    "hash": "04c0fcea70dda6048aeae827e76ba8fc20c8a61759a06da91d2e948a06278481"
   }
  }
 },
 "nbformat": 4,
 "nbformat_minor": 2
}
